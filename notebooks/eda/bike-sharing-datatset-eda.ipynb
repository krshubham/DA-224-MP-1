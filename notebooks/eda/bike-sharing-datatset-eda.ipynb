{
 "cells": [
  {
   "cell_type": "code",
   "execution_count": 6,
   "metadata": {
    "collapsed": true
   },
   "outputs": [],
   "source": [
    "import pandas as pd\n",
    "import matplotlib.pyplot as plt\n",
    "import seaborn as sns"
   ]
  },
  {
   "cell_type": "code",
   "execution_count": 7,
   "outputs": [],
   "source": [
    "#Constants\n",
    "RAW_DATASET_PATH = '../../data/raw/SeoulBikeData_MP1.csv'"
   ],
   "metadata": {
    "collapsed": false,
    "pycharm": {
     "name": "#%%\n"
    }
   }
  },
  {
   "cell_type": "markdown",
   "source": [
    "### Utility Methods"
   ],
   "metadata": {
    "collapsed": false,
    "pycharm": {
     "name": "#%% md\n"
    }
   }
  },
  {
   "cell_type": "code",
   "execution_count": 86,
   "outputs": [],
   "source": [
    "def get_range_for_column(dataframe, column_label):\n",
    "    \"\"\"\n",
    "    Make sure the column given is in appropriate data type\n",
    "    :param dataframe: `python.Dataframe` dataframe object\n",
    "    :param column_label: the string label for the column\n",
    "    :return: two values, first one being the min and the second one being the max\n",
    "    \"\"\"\n",
    "    return dataframe[column_label].min(), dataframe[column_label].max()"
   ],
   "metadata": {
    "collapsed": false,
    "pycharm": {
     "name": "#%%\n"
    }
   }
  },
  {
   "cell_type": "code",
   "execution_count": 87,
   "outputs": [],
   "source": [
    "def get_null_values_for_column(dataframe, column_label):\n",
    "    \"\"\"\n",
    "    A utility function that returns the count of instances of a column which are null\n",
    "    :param dataframe: `pandas.Dataframe` dataframe object\n",
    "    :param column_label: the string label for the column\n",
    "    :return: a positive integer indicating the number of instances with null values\n",
    "    \"\"\"\n",
    "    return dataframe[column_label].isna().sum()"
   ],
   "metadata": {
    "collapsed": false,
    "pycharm": {
     "name": "#%%\n"
    }
   }
  },
  {
   "cell_type": "code",
   "execution_count": 99,
   "outputs": [],
   "source": [
    "dataset = pd.read_csv(RAW_DATASET_PATH)"
   ],
   "metadata": {
    "collapsed": false,
    "pycharm": {
     "name": "#%%\n"
    }
   }
  },
  {
   "cell_type": "code",
   "execution_count": 100,
   "outputs": [
    {
     "data": {
      "text/plain": "      Unnamed: 0      Date  Rented Bike Count  Hour  Temperature(C)  \\\n0              0  01/12/17                254     0            -5.2   \n1              1  01/12/17                204     1            -5.5   \n2              2  01/12/17                173     2            -6.0   \n3              3  01/12/17                107     3            -6.2   \n4              4  01/12/17                 78     4            -6.0   \n...          ...       ...                ...   ...             ...   \n8755        8755  30/11/18               1003    19             4.2   \n8756        8756  30/11/18                764    20             NaN   \n8757        8757  30/11/18                694    21             2.6   \n8758        8758  30/11/18                712    22             2.1   \n8759        8759  30/11/18                584    23             NaN   \n\n      Humidity(%)  Wind speed (m/s)  Visibility (10m)  \\\n0              37               2.2              2000   \n1              38               0.8              2000   \n2              39               1.0              2000   \n3              40               0.9              2000   \n4              36               2.3              2000   \n...           ...               ...               ...   \n8755           34               2.6              1894   \n8756           37               2.3              2000   \n8757           39               0.3              1968   \n8758           41               1.0              1859   \n8759           43               1.3              1909   \n\n      Dew point temperature(C)  Solar Radiation (MJ/m2)  Rainfall(mm)  \\\n0                        -17.6                      0.0           0.0   \n1                        -17.6                      0.0           0.0   \n2                        -17.7                      0.0           0.0   \n3                        -17.6                      0.0           0.0   \n4                        -18.6                      0.0           0.0   \n...                        ...                      ...           ...   \n8755                     -10.3                      0.0           0.0   \n8756                      -9.9                      0.0           0.0   \n8757                      -9.9                      0.0           0.0   \n8758                      -9.8                      0.0           0.0   \n8759                      -9.3                      0.0           0.0   \n\n      Snowfall (cm) Seasons     Holiday Functioning Day  \n0               0.0  Winter  No Holiday             Yes  \n1               0.0  Winter  No Holiday             Yes  \n2               0.0  Winter  No Holiday             Yes  \n3               0.0  Winter  No Holiday             Yes  \n4               0.0  Winter  No Holiday             Yes  \n...             ...     ...         ...             ...  \n8755            0.0  Autumn  No Holiday             Yes  \n8756            0.0  Autumn  No Holiday             Yes  \n8757            0.0  Autumn  No Holiday             Yes  \n8758            0.0  Autumn  No Holiday             Yes  \n8759            0.0  Autumn  No Holiday             Yes  \n\n[8760 rows x 15 columns]",
      "text/html": "<div>\n<style scoped>\n    .dataframe tbody tr th:only-of-type {\n        vertical-align: middle;\n    }\n\n    .dataframe tbody tr th {\n        vertical-align: top;\n    }\n\n    .dataframe thead th {\n        text-align: right;\n    }\n</style>\n<table border=\"1\" class=\"dataframe\">\n  <thead>\n    <tr style=\"text-align: right;\">\n      <th></th>\n      <th>Unnamed: 0</th>\n      <th>Date</th>\n      <th>Rented Bike Count</th>\n      <th>Hour</th>\n      <th>Temperature(C)</th>\n      <th>Humidity(%)</th>\n      <th>Wind speed (m/s)</th>\n      <th>Visibility (10m)</th>\n      <th>Dew point temperature(C)</th>\n      <th>Solar Radiation (MJ/m2)</th>\n      <th>Rainfall(mm)</th>\n      <th>Snowfall (cm)</th>\n      <th>Seasons</th>\n      <th>Holiday</th>\n      <th>Functioning Day</th>\n    </tr>\n  </thead>\n  <tbody>\n    <tr>\n      <th>0</th>\n      <td>0</td>\n      <td>01/12/17</td>\n      <td>254</td>\n      <td>0</td>\n      <td>-5.2</td>\n      <td>37</td>\n      <td>2.2</td>\n      <td>2000</td>\n      <td>-17.6</td>\n      <td>0.0</td>\n      <td>0.0</td>\n      <td>0.0</td>\n      <td>Winter</td>\n      <td>No Holiday</td>\n      <td>Yes</td>\n    </tr>\n    <tr>\n      <th>1</th>\n      <td>1</td>\n      <td>01/12/17</td>\n      <td>204</td>\n      <td>1</td>\n      <td>-5.5</td>\n      <td>38</td>\n      <td>0.8</td>\n      <td>2000</td>\n      <td>-17.6</td>\n      <td>0.0</td>\n      <td>0.0</td>\n      <td>0.0</td>\n      <td>Winter</td>\n      <td>No Holiday</td>\n      <td>Yes</td>\n    </tr>\n    <tr>\n      <th>2</th>\n      <td>2</td>\n      <td>01/12/17</td>\n      <td>173</td>\n      <td>2</td>\n      <td>-6.0</td>\n      <td>39</td>\n      <td>1.0</td>\n      <td>2000</td>\n      <td>-17.7</td>\n      <td>0.0</td>\n      <td>0.0</td>\n      <td>0.0</td>\n      <td>Winter</td>\n      <td>No Holiday</td>\n      <td>Yes</td>\n    </tr>\n    <tr>\n      <th>3</th>\n      <td>3</td>\n      <td>01/12/17</td>\n      <td>107</td>\n      <td>3</td>\n      <td>-6.2</td>\n      <td>40</td>\n      <td>0.9</td>\n      <td>2000</td>\n      <td>-17.6</td>\n      <td>0.0</td>\n      <td>0.0</td>\n      <td>0.0</td>\n      <td>Winter</td>\n      <td>No Holiday</td>\n      <td>Yes</td>\n    </tr>\n    <tr>\n      <th>4</th>\n      <td>4</td>\n      <td>01/12/17</td>\n      <td>78</td>\n      <td>4</td>\n      <td>-6.0</td>\n      <td>36</td>\n      <td>2.3</td>\n      <td>2000</td>\n      <td>-18.6</td>\n      <td>0.0</td>\n      <td>0.0</td>\n      <td>0.0</td>\n      <td>Winter</td>\n      <td>No Holiday</td>\n      <td>Yes</td>\n    </tr>\n    <tr>\n      <th>...</th>\n      <td>...</td>\n      <td>...</td>\n      <td>...</td>\n      <td>...</td>\n      <td>...</td>\n      <td>...</td>\n      <td>...</td>\n      <td>...</td>\n      <td>...</td>\n      <td>...</td>\n      <td>...</td>\n      <td>...</td>\n      <td>...</td>\n      <td>...</td>\n      <td>...</td>\n    </tr>\n    <tr>\n      <th>8755</th>\n      <td>8755</td>\n      <td>30/11/18</td>\n      <td>1003</td>\n      <td>19</td>\n      <td>4.2</td>\n      <td>34</td>\n      <td>2.6</td>\n      <td>1894</td>\n      <td>-10.3</td>\n      <td>0.0</td>\n      <td>0.0</td>\n      <td>0.0</td>\n      <td>Autumn</td>\n      <td>No Holiday</td>\n      <td>Yes</td>\n    </tr>\n    <tr>\n      <th>8756</th>\n      <td>8756</td>\n      <td>30/11/18</td>\n      <td>764</td>\n      <td>20</td>\n      <td>NaN</td>\n      <td>37</td>\n      <td>2.3</td>\n      <td>2000</td>\n      <td>-9.9</td>\n      <td>0.0</td>\n      <td>0.0</td>\n      <td>0.0</td>\n      <td>Autumn</td>\n      <td>No Holiday</td>\n      <td>Yes</td>\n    </tr>\n    <tr>\n      <th>8757</th>\n      <td>8757</td>\n      <td>30/11/18</td>\n      <td>694</td>\n      <td>21</td>\n      <td>2.6</td>\n      <td>39</td>\n      <td>0.3</td>\n      <td>1968</td>\n      <td>-9.9</td>\n      <td>0.0</td>\n      <td>0.0</td>\n      <td>0.0</td>\n      <td>Autumn</td>\n      <td>No Holiday</td>\n      <td>Yes</td>\n    </tr>\n    <tr>\n      <th>8758</th>\n      <td>8758</td>\n      <td>30/11/18</td>\n      <td>712</td>\n      <td>22</td>\n      <td>2.1</td>\n      <td>41</td>\n      <td>1.0</td>\n      <td>1859</td>\n      <td>-9.8</td>\n      <td>0.0</td>\n      <td>0.0</td>\n      <td>0.0</td>\n      <td>Autumn</td>\n      <td>No Holiday</td>\n      <td>Yes</td>\n    </tr>\n    <tr>\n      <th>8759</th>\n      <td>8759</td>\n      <td>30/11/18</td>\n      <td>584</td>\n      <td>23</td>\n      <td>NaN</td>\n      <td>43</td>\n      <td>1.3</td>\n      <td>1909</td>\n      <td>-9.3</td>\n      <td>0.0</td>\n      <td>0.0</td>\n      <td>0.0</td>\n      <td>Autumn</td>\n      <td>No Holiday</td>\n      <td>Yes</td>\n    </tr>\n  </tbody>\n</table>\n<p>8760 rows × 15 columns</p>\n</div>"
     },
     "execution_count": 100,
     "metadata": {},
     "output_type": "execute_result"
    }
   ],
   "source": [
    "dataset"
   ],
   "metadata": {
    "collapsed": false,
    "pycharm": {
     "name": "#%%\n"
    }
   }
  },
  {
   "cell_type": "code",
   "execution_count": 90,
   "outputs": [
    {
     "name": "stdout",
     "output_type": "stream",
     "text": [
      "<class 'pandas.core.frame.DataFrame'>\n",
      "RangeIndex: 8760 entries, 0 to 8759\n",
      "Data columns (total 15 columns):\n",
      " #   Column                    Non-Null Count  Dtype  \n",
      "---  ------                    --------------  -----  \n",
      " 0   Unnamed: 0                8760 non-null   int64  \n",
      " 1   Date                      8760 non-null   object \n",
      " 2   Rented Bike Count         8760 non-null   int64  \n",
      " 3   Hour                      8760 non-null   int64  \n",
      " 4   Temperature(C)            8260 non-null   float64\n",
      " 5   Humidity(%)               8760 non-null   int64  \n",
      " 6   Wind speed (m/s)          8760 non-null   float64\n",
      " 7   Visibility (10m)          8760 non-null   int64  \n",
      " 8   Dew point temperature(C)  8760 non-null   float64\n",
      " 9   Solar Radiation (MJ/m2)   8760 non-null   float64\n",
      " 10  Rainfall(mm)              8760 non-null   float64\n",
      " 11  Snowfall (cm)             8760 non-null   float64\n",
      " 12  Seasons                   8760 non-null   object \n",
      " 13  Holiday                   8760 non-null   object \n",
      " 14  Functioning Day           8760 non-null   object \n",
      "dtypes: float64(6), int64(5), object(4)\n",
      "memory usage: 1.0+ MB\n"
     ]
    }
   ],
   "source": [
    "dataset.info()"
   ],
   "metadata": {
    "collapsed": false,
    "pycharm": {
     "name": "#%%\n"
    }
   }
  },
  {
   "cell_type": "code",
   "execution_count": 98,
   "outputs": [
    {
     "data": {
      "text/plain": "        Unnamed: 0  Rented Bike Count         Hour  Temperature(C)  \\\ncount  8760.000000        8760.000000  8760.000000     8260.000000   \nmean   4379.500000         704.602055    11.500000       12.877349   \nstd    2528.938512         644.997468     6.922582       11.957556   \nmin       0.000000           0.000000     0.000000      -17.500000   \n25%    2189.750000         191.000000     5.750000        3.500000   \n50%    4379.500000         504.500000    11.500000       13.750000   \n75%    6569.250000        1065.250000    17.250000       22.500000   \nmax    8759.000000        3556.000000    23.000000       39.400000   \n\n       Humidity(%)  Wind speed (m/s)  Visibility (10m)  \\\ncount  8760.000000       8760.000000       8760.000000   \nmean     58.226256          1.724909       1436.825799   \nstd      20.362413          1.036300        608.298712   \nmin       0.000000          0.000000         27.000000   \n25%      42.000000          0.900000        940.000000   \n50%      57.000000          1.500000       1698.000000   \n75%      74.000000          2.300000       2000.000000   \nmax      98.000000          7.400000       2000.000000   \n\n       Dew point temperature(C)  Solar Radiation (MJ/m2)  Rainfall(mm)  \\\ncount               8760.000000              8760.000000   8760.000000   \nmean                   4.073813                 0.569111      0.148687   \nstd                   13.060369                 0.868746      1.128193   \nmin                  -30.600000                 0.000000      0.000000   \n25%                   -4.700000                 0.000000      0.000000   \n50%                    5.100000                 0.010000      0.000000   \n75%                   14.800000                 0.930000      0.000000   \nmax                   27.200000                 3.520000     35.000000   \n\n       Snowfall (cm)  \ncount    8760.000000  \nmean        0.075068  \nstd         0.436746  \nmin         0.000000  \n25%         0.000000  \n50%         0.000000  \n75%         0.000000  \nmax         8.800000  ",
      "text/html": "<div>\n<style scoped>\n    .dataframe tbody tr th:only-of-type {\n        vertical-align: middle;\n    }\n\n    .dataframe tbody tr th {\n        vertical-align: top;\n    }\n\n    .dataframe thead th {\n        text-align: right;\n    }\n</style>\n<table border=\"1\" class=\"dataframe\">\n  <thead>\n    <tr style=\"text-align: right;\">\n      <th></th>\n      <th>Unnamed: 0</th>\n      <th>Rented Bike Count</th>\n      <th>Hour</th>\n      <th>Temperature(C)</th>\n      <th>Humidity(%)</th>\n      <th>Wind speed (m/s)</th>\n      <th>Visibility (10m)</th>\n      <th>Dew point temperature(C)</th>\n      <th>Solar Radiation (MJ/m2)</th>\n      <th>Rainfall(mm)</th>\n      <th>Snowfall (cm)</th>\n    </tr>\n  </thead>\n  <tbody>\n    <tr>\n      <th>count</th>\n      <td>8760.000000</td>\n      <td>8760.000000</td>\n      <td>8760.000000</td>\n      <td>8260.000000</td>\n      <td>8760.000000</td>\n      <td>8760.000000</td>\n      <td>8760.000000</td>\n      <td>8760.000000</td>\n      <td>8760.000000</td>\n      <td>8760.000000</td>\n      <td>8760.000000</td>\n    </tr>\n    <tr>\n      <th>mean</th>\n      <td>4379.500000</td>\n      <td>704.602055</td>\n      <td>11.500000</td>\n      <td>12.877349</td>\n      <td>58.226256</td>\n      <td>1.724909</td>\n      <td>1436.825799</td>\n      <td>4.073813</td>\n      <td>0.569111</td>\n      <td>0.148687</td>\n      <td>0.075068</td>\n    </tr>\n    <tr>\n      <th>std</th>\n      <td>2528.938512</td>\n      <td>644.997468</td>\n      <td>6.922582</td>\n      <td>11.957556</td>\n      <td>20.362413</td>\n      <td>1.036300</td>\n      <td>608.298712</td>\n      <td>13.060369</td>\n      <td>0.868746</td>\n      <td>1.128193</td>\n      <td>0.436746</td>\n    </tr>\n    <tr>\n      <th>min</th>\n      <td>0.000000</td>\n      <td>0.000000</td>\n      <td>0.000000</td>\n      <td>-17.500000</td>\n      <td>0.000000</td>\n      <td>0.000000</td>\n      <td>27.000000</td>\n      <td>-30.600000</td>\n      <td>0.000000</td>\n      <td>0.000000</td>\n      <td>0.000000</td>\n    </tr>\n    <tr>\n      <th>25%</th>\n      <td>2189.750000</td>\n      <td>191.000000</td>\n      <td>5.750000</td>\n      <td>3.500000</td>\n      <td>42.000000</td>\n      <td>0.900000</td>\n      <td>940.000000</td>\n      <td>-4.700000</td>\n      <td>0.000000</td>\n      <td>0.000000</td>\n      <td>0.000000</td>\n    </tr>\n    <tr>\n      <th>50%</th>\n      <td>4379.500000</td>\n      <td>504.500000</td>\n      <td>11.500000</td>\n      <td>13.750000</td>\n      <td>57.000000</td>\n      <td>1.500000</td>\n      <td>1698.000000</td>\n      <td>5.100000</td>\n      <td>0.010000</td>\n      <td>0.000000</td>\n      <td>0.000000</td>\n    </tr>\n    <tr>\n      <th>75%</th>\n      <td>6569.250000</td>\n      <td>1065.250000</td>\n      <td>17.250000</td>\n      <td>22.500000</td>\n      <td>74.000000</td>\n      <td>2.300000</td>\n      <td>2000.000000</td>\n      <td>14.800000</td>\n      <td>0.930000</td>\n      <td>0.000000</td>\n      <td>0.000000</td>\n    </tr>\n    <tr>\n      <th>max</th>\n      <td>8759.000000</td>\n      <td>3556.000000</td>\n      <td>23.000000</td>\n      <td>39.400000</td>\n      <td>98.000000</td>\n      <td>7.400000</td>\n      <td>2000.000000</td>\n      <td>27.200000</td>\n      <td>3.520000</td>\n      <td>35.000000</td>\n      <td>8.800000</td>\n    </tr>\n  </tbody>\n</table>\n</div>"
     },
     "execution_count": 98,
     "metadata": {},
     "output_type": "execute_result"
    }
   ],
   "source": [
    "dataset.describe()"
   ],
   "metadata": {
    "collapsed": false,
    "pycharm": {
     "name": "#%%\n"
    }
   }
  },
  {
   "cell_type": "markdown",
   "source": [
    "**Verify what's the first and last date value**"
   ],
   "metadata": {
    "collapsed": false,
    "pycharm": {
     "name": "#%% md\n"
    }
   }
  },
  {
   "cell_type": "code",
   "execution_count": 91,
   "outputs": [
    {
     "name": "stdout",
     "output_type": "stream",
     "text": [
      "Dates are from 2017-12-01 00:00:00 to 2018-11-30 00:00:00\n",
      "Number of null fields 0\n"
     ]
    }
   ],
   "source": [
    "dataset['Date'] = pd.to_datetime(dataset['Date'], format=\"%d/%m/%y\")\n",
    "end_date = dataset['Date'].max()\n",
    "start_date = dataset['Date'].min()\n",
    "print(\"Dates are from {} to {}\".format(start_date, end_date))\n",
    "print(\"Number of null fields {}\".format(dataset['Date'].isna().sum()))"
   ],
   "metadata": {
    "collapsed": false,
    "pycharm": {
     "name": "#%%\n"
    }
   }
  },
  {
   "cell_type": "markdown",
   "source": [
    "**Verify data about the Rented Bike count Column**"
   ],
   "metadata": {
    "collapsed": false,
    "pycharm": {
     "name": "#%% md\n"
    }
   }
  },
  {
   "cell_type": "code",
   "execution_count": 92,
   "outputs": [
    {
     "name": "stdout",
     "output_type": "stream",
     "text": [
      "Rented Bike count ranges from 0 to 3556\n",
      "Number of null fields 0\n"
     ]
    }
   ],
   "source": [
    "min_rented_bike_count = dataset['Rented Bike Count'].min()\n",
    "max_rented_bike_count = dataset['Rented Bike Count'].max()\n",
    "print(\"Rented Bike count ranges from {} to {}\".format(min_rented_bike_count, max_rented_bike_count))\n",
    "print(\"Number of null fields {}\".format(dataset['Rented Bike Count'].isna().sum()))"
   ],
   "metadata": {
    "collapsed": false,
    "pycharm": {
     "name": "#%%\n"
    }
   }
  },
  {
   "cell_type": "markdown",
   "source": [
    "**Verify values for Temperature column**"
   ],
   "metadata": {
    "collapsed": false,
    "pycharm": {
     "name": "#%% md\n"
    }
   }
  },
  {
   "cell_type": "code",
   "execution_count": 93,
   "outputs": [
    {
     "name": "stdout",
     "output_type": "stream",
     "text": [
      "Temperature ranges from -17.5 degreec C to 39.4 degrees C\n",
      "Number of null fields 500\n"
     ]
    }
   ],
   "source": [
    "min_temperature_celsius = dataset['Temperature(C)'].min()\n",
    "max_temperature_celsius = dataset['Temperature(C)'].max()\n",
    "print(\"Temperature ranges from {} degreec C to {} degrees C\".format(min_temperature_celsius, max_temperature_celsius))\n",
    "print(\"Number of null fields {}\".format(dataset['Temperature(C)'].isna().sum()))"
   ],
   "metadata": {
    "collapsed": false,
    "pycharm": {
     "name": "#%%\n"
    }
   }
  },
  {
   "cell_type": "markdown",
   "source": [
    "**Verify values for Humidity column**"
   ],
   "metadata": {
    "collapsed": false,
    "pycharm": {
     "name": "#%% md\n"
    }
   }
  },
  {
   "cell_type": "code",
   "execution_count": 96,
   "outputs": [
    {
     "name": "stdout",
     "output_type": "stream",
     "text": [
      "Humidity ranges from 0% to 98%\n",
      "Number of null values 0\n"
     ]
    }
   ],
   "source": [
    "min_humidity, max_humidity = get_range_for_column(dataframe=dataset, column_label='Humidity(%)')\n",
    "print(\"Humidity ranges from {}% to {}%\".format(min_humidity, max_humidity))\n",
    "print(\"Number of null values {}\".format(get_null_values_for_column(dataframe=dataset, column_label='Humidity(%)')))"
   ],
   "metadata": {
    "collapsed": false,
    "pycharm": {
     "name": "#%%\n"
    }
   }
  },
  {
   "cell_type": "markdown",
   "source": [
    "### Dataset description\n",
    "Based on the above dataset we have about 8760 rows and about 14 attributes (ignoring the serial number)\n",
    "\n",
    "1. Date - Format is dd/mm/yy starts from 01/12/17 and goes till 30/11/18, none of the values are null\n",
    "2. Rented Bike count - Number denoting the number of bikes that were rented on any given day, ranges from 0 to 3556, none of the values are null\n",
    "3. Hour - A categorical value ranging from 0 to 23 for each day, none of the values are null\n",
    "4. Temperature - Temperature value in celsius, about 500 values are null, we might need to do some imputation for this. Ranges from -17.5 to 39.4, quite the range!\n",
    "5. Humidity - A value denoting the amount of humidity in a given day, ranges from 0 to 98%. None of the rows are null\n",
    "6. Wind speed - Number denoting wind speed in m/s. Ranges from 0 to 7.4\n",
    "7. Visibility - The values*10 reveal the actual visibility in miles. Ranges from 270 meters to 20000 meters. None of the values are null\n",
    "8. Dew Point Temperature - the temperature to which a parcel of moist air must be cooled at constant atmospheric pressure and constant water vapour content in order for saturation to occur. Ranges from -30.60 to 27.20 degrees celsius. None of the values are null\n",
    "9. Solar radiation - MJ/m^2 (Mega Joule/m^2). None of the values are null, ranges from 0 to 3.52\n",
    "10. Rainfall - In millimeters. None of the values are null. Ranges from 0 to 35mm\n",
    "11. Snowfall - In centimeters. None of the values are null. Ranges from 0 to 8.8cm\n",
    "12. Seasons - Categorical Variable. Values in (Winter, Soring, Summer, Autumn)\n",
    "13. Holiday - Categorical Variable. Values in (Not Holiday, Holiday)\n",
    "14. Functiondal day - Categorical Variable. Values in (Yes, No). Seen for each hour. None of the values are null"
   ],
   "metadata": {
    "collapsed": false,
    "pycharm": {
     "name": "#%% md\n"
    }
   }
  },
  {
   "cell_type": "markdown",
   "source": [
    "### Correlation of different numeric values with rented bike count"
   ],
   "metadata": {
    "collapsed": false,
    "pycharm": {
     "name": "#%% md\n"
    }
   }
  },
  {
   "cell_type": "code",
   "execution_count": 102,
   "outputs": [
    {
     "data": {
      "text/plain": "Unnamed: 0                  0.341894\nRented Bike Count           1.000000\nHour                        0.410257\nTemperature(C)              0.540538\nHumidity(%)                -0.199780\nWind speed (m/s)            0.121108\nVisibility (10m)            0.199280\nDew point temperature(C)    0.379788\nSolar Radiation (MJ/m2)     0.261837\nRainfall(mm)               -0.123074\nSnowfall (cm)              -0.141804\nName: Rented Bike Count, dtype: float64"
     },
     "execution_count": 102,
     "metadata": {},
     "output_type": "execute_result"
    }
   ],
   "source": [
    "dataset.corr()['Rented Bike Count']"
   ],
   "metadata": {
    "collapsed": false,
    "pycharm": {
     "name": "#%%\n"
    }
   }
  },
  {
   "cell_type": "markdown",
   "source": [
    "**Interesting observations**\n",
    "\n",
    "1. We know that the hour ranges from 0 to 23 and we see a good correlation between hour and rented bike count\n",
    "2. Also, Temperature seems to be positively correlated with Rented Bike Count as well"
   ],
   "metadata": {
    "collapsed": false,
    "pycharm": {
     "name": "#%% md\n"
    }
   }
  }
 ],
 "metadata": {
  "kernelspec": {
   "display_name": "Python 3",
   "language": "python",
   "name": "python3"
  },
  "language_info": {
   "codemirror_mode": {
    "name": "ipython",
    "version": 2
   },
   "file_extension": ".py",
   "mimetype": "text/x-python",
   "name": "python",
   "nbconvert_exporter": "python",
   "pygments_lexer": "ipython2",
   "version": "2.7.6"
  }
 },
 "nbformat": 4,
 "nbformat_minor": 0
}